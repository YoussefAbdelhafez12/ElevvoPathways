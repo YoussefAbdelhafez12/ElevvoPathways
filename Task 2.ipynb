{
 "cells": [
  {
   "cell_type": "code",
   "execution_count": 1,
   "id": "380215ff",
   "metadata": {},
   "outputs": [],
   "source": [
    "#import libraries\n",
    "import pandas as pd\n",
    "import numpy as np\n",
    "import matplotlib.pyplot as plt\n",
    "import seaborn as sns"
   ]
  },
  {
   "cell_type": "code",
   "execution_count": 2,
   "id": "778e8626",
   "metadata": {},
   "outputs": [],
   "source": [
    "#load dataset\n",
    "titanic =pd.read_csv(\"train.csv\")\n"
   ]
  },
  {
   "cell_type": "code",
   "execution_count": null,
   "id": "bfd60603",
   "metadata": {},
   "outputs": [],
   "source": [
    "#explore data \n",
    "print(titanic.head(10))\n",
    "print(titanic.info())\n",
    "print(titanic.describe())\n",
    "print(titanic.isnull().sum())"
   ]
  },
  {
   "cell_type": "code",
   "execution_count": null,
   "id": "3b85ef17",
   "metadata": {},
   "outputs": [],
   "source": [
    "#data cleaning\n",
    "titanic['Age'].fillna(titanic['Age'].mean(), inplace=True)\n",
    "titanic = titanic.drop('Cabin',axis = 1,errors = 'ignore')\n",
    "titanic['Embarked'] = titanic['Embarked'].fillna(titanic['Embarked'].mode()[0])\n",
    "titanic['Embarked'] = titanic['Embarked'].astype('category')"
   ]
  },
  {
   "cell_type": "code",
   "execution_count": null,
   "id": "47bec2c0",
   "metadata": {},
   "outputs": [],
   "source": [
    "#summary statistics\n",
    "summary = titanic.describe()\n",
    "survival_sex = titanic.groupby('Sex')['Survived'].mean()\n",
    "survival_age = titanic.groupby('Age')['Survived'].median()\n",
    "print(survival_sex,survival_age)\n"
   ]
  },
  {
   "cell_type": "code",
   "execution_count": null,
   "id": "1a3cf1f4",
   "metadata": {},
   "outputs": [],
   "source": [
    "# Bar plot for survival rates by gender\n",
    "sns.barplot(x='Sex', y='Survived', data = titanic)\n",
    "plt.title('Survival Rates by Gender')\n",
    "plt.show()"
   ]
  },
  {
   "cell_type": "code",
   "execution_count": null,
   "id": "b780af4f",
   "metadata": {},
   "outputs": [],
   "source": [
    "# Heatmap for correlation matrix\n",
    "titanic_filtered = titanic.drop(columns=['Name', 'Ticket','Embarked','Sex'])\n",
    "correlation_matrix = titanic_filtered.corr()\n",
    "sns.heatmap(correlation_matrix, annot=True, cmap = 'coolwarm')\n",
    "plt.title('Correlation Heatmap')\n",
    "plt.show()"
   ]
  }
 ],
 "metadata": {
  "kernelspec": {
   "display_name": "my_venv",
   "language": "python",
   "name": "python3"
  },
  "language_info": {
   "codemirror_mode": {
    "name": "ipython",
    "version": 3
   },
   "file_extension": ".py",
   "mimetype": "text/x-python",
   "name": "python",
   "nbconvert_exporter": "python",
   "pygments_lexer": "ipython3",
   "version": "3.12.4"
  }
 },
 "nbformat": 4,
 "nbformat_minor": 5
}
